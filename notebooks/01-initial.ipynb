{
 "cells": [
  {
   "cell_type": "code",
   "execution_count": 1,
   "id": "622d7571-fd21-40ce-a468-3e818ea0a66d",
   "metadata": {},
   "outputs": [],
   "source": [
    "import numpy as np\n",
    "import pandas as pd\n",
    "import torch\n",
    "\n",
    "import torch.nn.functional as F"
   ]
  },
  {
   "cell_type": "code",
   "execution_count": 2,
   "id": "f1cdf05f-4b2a-4a15-b1eb-39ff3abf3288",
   "metadata": {},
   "outputs": [],
   "source": [
    "class BetaScheduler:\n",
    "    def __init__(self,\n",
    "                 schedule_type: str=\"linear\",\n",
    "                 start: float=0.0001,\n",
    "                 stop: float=0.02,\n",
    "                ):\n",
    "        self._schedule_type = schedule_type\n",
    "        self._start = start\n",
    "        self._stop = stop\n",
    "    \n",
    "    def generate(self, n_steps: int):\n",
    "        if self._schedule_type == \"linear\":\n",
    "            return torch.linspace(\n",
    "                start=self._start,\n",
    "                end=self._stop,\n",
    "                steps=n_steps,\n",
    "                dtype=torch.float32,\n",
    "            )\n",
    "        else:\n",
    "            raise ValueError(f\"Unknown schedule type: {self._schedule_type}\")\n",
    "\n",
    "\n",
    "class DiffusionModel:\n",
    "    \n",
    "    def __init__(self,\n",
    "                 n_steps: int,\n",
    "                 beta_scheduler: BetaScheduler,\n",
    "                ):\n",
    "        self._n_steps = n_steps\n",
    "        self._betas = beta_scheduler.generate(n_steps=n_steps)\n",
    "    \n",
    "    def forward_step(self, batch: torch.Tensor, timestep: int):\n",
    "        mean =  torch.sqrt(self._gather(input_arr=1-self._betas, timestep=timestep)) * batch\n",
    "        \n",
    "    def _gather(self, input_arr: torch.Tensor, timestep: torch.Tensor):\n",
    "        \"\"\"Returns an element at a specific timestep in the input array.\n",
    "        \"\"\"\n",
    "        return input_arr.gather(-1, timestep).reshape(-1, 1)"
   ]
  },
  {
   "cell_type": "code",
   "execution_count": 3,
   "id": "597ef75a-370f-4f09-8779-994fec35e7d0",
   "metadata": {},
   "outputs": [],
   "source": [
    "means = torch.tensor([\n",
    "    [ 0,  1],\n",
    "    [ 1,  0],\n",
    "    [ 0, -1],\n",
    "    [-1,  0],\n",
    "], dtype=torch.float32) * 4\n",
    "cov = torch.eye(2, dtype=torch.float32) * 0.1\n",
    "\n",
    "dist = torch.distributions.MultivariateNormal(loc=means, covariance_matrix=cov)\n",
    "raw_data = dist.sample(sample_shape=(10,)).reshape(-1, cov.shape[0])"
   ]
  },
  {
   "cell_type": "code",
   "execution_count": 4,
   "id": "5907f032-64c8-4089-86b9-f2cddaf5ea56",
   "metadata": {},
   "outputs": [],
   "source": [
    "betas = BetaScheduler().generate(250)\n",
    "\n",
    "dm = DiffusionModel(n_steps=250, beta_scheduler=BetaScheduler())"
   ]
  },
  {
   "cell_type": "code",
   "execution_count": 5,
   "id": "7f6ca765-2be4-4b1d-9d65-5b5dabb173b1",
   "metadata": {},
   "outputs": [],
   "source": [
    "dm.forward_step(batch=raw_data, timestep=torch.tensor(100))"
   ]
  },
  {
   "cell_type": "code",
   "execution_count": null,
   "id": "1e60e040-da94-4a07-a46e-f81d6a7b137d",
   "metadata": {},
   "outputs": [],
   "source": []
  }
 ],
 "metadata": {
  "kernelspec": {
   "display_name": "Python 3 (ipykernel)",
   "language": "python",
   "name": "python3"
  },
  "language_info": {
   "codemirror_mode": {
    "name": "ipython",
    "version": 3
   },
   "file_extension": ".py",
   "mimetype": "text/x-python",
   "name": "python",
   "nbconvert_exporter": "python",
   "pygments_lexer": "ipython3",
   "version": "3.8.10"
  }
 },
 "nbformat": 4,
 "nbformat_minor": 5
}
